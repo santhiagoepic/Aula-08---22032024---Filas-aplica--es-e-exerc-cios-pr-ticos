{
 "cells": [
  {
   "cell_type": "markdown",
   "metadata": {},
   "source": [
    "# Filas com Listas Encadeadas"
   ]
  },
  {
   "cell_type": "markdown",
   "metadata": {},
   "source": [
    "# Operações de Inserção e Remoção\n",
    "# Enqueue (Inserir na Fila): \n",
    "A adição de um novo elemento no final da fila requer\n",
    "a criação de um novo nó e o ajuste da referência do último nó atual para apontar\n",
    "para este novo. Esse processo mantém a ordem de chegada dos elementos,\n",
    "sendo eficiente, pois não necessita percorrer toda a lista."
   ]
  },
  {
   "cell_type": "code",
   "execution_count": 1,
   "metadata": {},
   "outputs": [],
   "source": [
    "def enqueue(self, valor):\n",
    " novo_no = No(valor)\n",
    " if self.cauda is not None:\n",
    "    self.cauda.proximo = novo_no\n",
    " self.cauda = novo_no\n",
    " if self.cabeca is None:\n",
    "    self.cabeca = novo_no"
   ]
  },
  {
   "cell_type": "markdown",
   "metadata": {},
   "source": [
    "# Dequeue (Remover da Fila): \n",
    "A remoção do elemento na frente da fila implica\n",
    "em alterar a referência da cabeça da fila para o segundo nó, efetivamente\n",
    "removendo o primeiro elemento da fila. É necessário verificar se a fila não está\n",
    "vazia antes de realizar a remoção."
   ]
  },
  {
   "cell_type": "code",
   "execution_count": 2,
   "metadata": {},
   "outputs": [],
   "source": [
    "def dequeue(self):\n",
    " if self.cabeca is not None:\n",
    "    removido = self.cabeca\n",
    " self.cabeca = self.cabeca.proximo\n",
    " if self.cabeca is None:\n",
    "    self.cauda = None\n",
    " return removido.valor\n",
    " raise Exception(\"Fila vazia\")\n"
   ]
  },
  {
   "cell_type": "markdown",
   "metadata": {},
   "source": [
    "# Peek (Visualizar o Primeiro Elemento): \n",
    "Para acessar o elemento na frente da fila sem removê-lo, simplesmente retornamos o valor do nó apontado pela\n",
    "cabeça da fila, desde que a fila não esteja vazia."
   ]
  },
  {
   "cell_type": "code",
   "execution_count": 3,
   "metadata": {},
   "outputs": [],
   "source": [
    "def peek(self):\n",
    " if self.cabeca is not None:\n",
    "    return self.cabeca.valor\n",
    " raise Exception(\"Fila vazia\")\n"
   ]
  },
  {
   "cell_type": "code",
   "execution_count": null,
   "metadata": {},
   "outputs": [],
   "source": []
  }
 ],
 "metadata": {
  "kernelspec": {
   "display_name": "Python 3",
   "language": "python",
   "name": "python3"
  },
  "language_info": {
   "codemirror_mode": {
    "name": "ipython",
    "version": 3
   },
   "file_extension": ".py",
   "mimetype": "text/x-python",
   "name": "python",
   "nbconvert_exporter": "python",
   "pygments_lexer": "ipython3",
   "version": "3.11.8"
  }
 },
 "nbformat": 4,
 "nbformat_minor": 2
}
