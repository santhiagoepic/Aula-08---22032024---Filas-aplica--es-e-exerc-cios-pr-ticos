{
 "cells": [
  {
   "cell_type": "markdown",
   "metadata": {},
   "source": [
    "# Definição da classe Node para representar os elementos da fila"
   ]
  },
  {
   "cell_type": "code",
   "execution_count": 3,
   "metadata": {},
   "outputs": [],
   "source": [
    "class Nó:\n",
    "    def __init__(self, valor):\n",
    "        self.valor = valor\n",
    "        self.proximo = None\n",
    "\n",
    "# Definição da classe Fila que utiliza a classe Node para manipular os elementos\n",
    "class Fila:\n",
    "    def __init__(self):\n",
    "        self.inicio = None\n",
    "        self.fim = None\n",
    "\n",
    "    # Método para enfileirar um elemento\n",
    "    def enfileirar(self, valor):\n",
    "        novo_nó = Nó(valor)\n",
    "        if self.fim is None:\n",
    "            self.inicio = novo_nó\n",
    "            self.fim = novo_nó\n",
    "        else:\n",
    "            self.fim.proximo = novo_nó\n",
    "            self.fim = novo_nó\n",
    "\n",
    "    # Método para desenfileirar um elemento\n",
    "    def desenfileirar(self):\n",
    "        if self.inicio is None:\n",
    "            raise IndexError(\"A fila está vazia\")\n",
    "        valor = self.inicio.valor\n",
    "        self.inicio = self.inicio.proximo\n",
    "        if self.inicio is None:\n",
    "            self.fim = None\n",
    "        return valor\n",
    "\n",
    "    # Método para verificar se a fila está vazia\n",
    "    def está_vazia(self):\n",
    "        return self.inicio is None\n",
    "\n",
    "    # Método para visualizar o primeiro elemento da fila\n",
    "    def primeiro_elemento(self):\n",
    "        if self.inicio is None:\n",
    "            raise IndexError(\"A fila está vazia\")\n",
    "        return self.inicio.valor\n",
    "    # Método para exibir todos os elementos da fila\n",
    "    def exibir_fila(self):\n",
    "        atual = self.inicio\n",
    "        while atual:\n",
    "            print(atual.valor, end=\" \")\n",
    "            atual = atual.proximo\n",
    "        print()\n"
   ]
  },
  {
   "cell_type": "code",
   "execution_count": 4,
   "metadata": {},
   "outputs": [],
   "source": [
    "# Criando uma fila e inserindo elementos\n",
    "fila = Fila()\n",
    "fila.enfileirar(1)\n",
    "fila.enfileirar(2)\n",
    "fila.enfileirar(3)"
   ]
  },
  {
   "cell_type": "code",
   "execution_count": 5,
   "metadata": {},
   "outputs": [
    {
     "name": "stdout",
     "output_type": "stream",
     "text": [
      "Fila após a inserção dos elementos 1, 2 e 3:\n",
      "1 2 3 \n"
     ]
    }
   ],
   "source": [
    "# Exibindo a fila após a inserção dos elementos 1, 2 e 3\n",
    "print(\"Fila após a inserção dos elementos 1, 2 e 3:\")\n",
    "fila.exibir_fila()"
   ]
  },
  {
   "cell_type": "code",
   "execution_count": 6,
   "metadata": {},
   "outputs": [],
   "source": [
    "# Adicionando mais três elementos à fila\n",
    "fila.enfileirar(4)\n",
    "fila.enfileirar(5)\n",
    "fila.enfileirar(6)"
   ]
  },
  {
   "cell_type": "code",
   "execution_count": 7,
   "metadata": {},
   "outputs": [
    {
     "name": "stdout",
     "output_type": "stream",
     "text": [
      "Fila após a inserção dos elementos 4, 5 e 6:\n",
      "1 2 3 4 5 6 \n"
     ]
    }
   ],
   "source": [
    "# Exibindo a fila após a inserção dos elementos 4, 5 e 6\n",
    "print(\"Fila após a inserção dos elementos 4, 5 e 6:\")\n",
    "fila.exibir_fila()"
   ]
  },
  {
   "cell_type": "code",
   "execution_count": 8,
   "metadata": {},
   "outputs": [
    {
     "data": {
      "text/plain": [
       "2"
      ]
     },
     "execution_count": 8,
     "metadata": {},
     "output_type": "execute_result"
    }
   ],
   "source": [
    "# Removendo dois elementos da fila\n",
    "fila.desenfileirar()\n",
    "fila.desenfileirar()"
   ]
  },
  {
   "cell_type": "code",
   "execution_count": 9,
   "metadata": {},
   "outputs": [
    {
     "name": "stdout",
     "output_type": "stream",
     "text": [
      "Fila após a remoção de dois elementos:\n",
      "3 4 5 6 \n"
     ]
    }
   ],
   "source": [
    "# Exibindo a fila após a remoção de dois elementos\n",
    "print(\"Fila após a remoção de dois elementos:\")\n",
    "fila.exibir_fila()"
   ]
  },
  {
   "cell_type": "code",
   "execution_count": 10,
   "metadata": {},
   "outputs": [
    {
     "name": "stdout",
     "output_type": "stream",
     "text": [
      "Primeiro elemento da fila: 3\n"
     ]
    }
   ],
   "source": [
    "# Visualizando o primeiro elemento da fila\n",
    "primeiro_elemento = fila.primeiro_elemento()\n",
    "print(\"Primeiro elemento da fila:\", primeiro_elemento)\n"
   ]
  },
  {
   "cell_type": "code",
   "execution_count": 11,
   "metadata": {},
   "outputs": [
    {
     "name": "stdout",
     "output_type": "stream",
     "text": [
      "Fila não está vazia\n"
     ]
    }
   ],
   "source": [
    "# Verificando se a fila está vazia\n",
    "if fila.está_vazia():\n",
    "    print(\"Fila está vazia\")\n",
    "else:\n",
    "    print(\"Fila não está vazia\")"
   ]
  }
 ],
 "metadata": {
  "kernelspec": {
   "display_name": "Python 3",
   "language": "python",
   "name": "python3"
  },
  "language_info": {
   "codemirror_mode": {
    "name": "ipython",
    "version": 3
   },
   "file_extension": ".py",
   "mimetype": "text/x-python",
   "name": "python",
   "nbconvert_exporter": "python",
   "pygments_lexer": "ipython3",
   "version": "3.11.8"
  }
 },
 "nbformat": 4,
 "nbformat_minor": 2
}
